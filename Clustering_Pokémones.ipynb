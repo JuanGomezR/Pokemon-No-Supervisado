{
  "nbformat": 4,
  "nbformat_minor": 0,
  "metadata": {
    "colab": {
      "provenance": [],
      "collapsed_sections": [
        "tHwXOJnxJIDJ",
        "fUsXYsm5UzuH",
        "QcwiuKTCGwk6"
      ]
    },
    "kernelspec": {
      "name": "python3",
      "display_name": "Python 3"
    },
    "language_info": {
      "name": "python"
    }
  },
  "cells": [
    {
      "cell_type": "markdown",
      "source": [
        "# Proyecto de Clustering \"Agrupador De Pokémones\"\n",
        "\n",
        "El carácter de este proyecto es nétamente educativo, su objetivo es hacer una demostración paso a paso de cómo entrenar un modelo de aprendizaje no supervisado para la agrupación de datos similares de un Dataset utilizando la clase KMeans de la librería Scikit-Learn.\n",
        "\n",
        "El Dataset que utilizaremos está contenido dentro de esta carpeta como 'Pokemon.csv'; la descripción de este Dataset y sus variables tambien se encuentra en esta carpeta como 'Pokemon_summary.txt'. El archivo 'Pokemon.csv' fue adaptado de: https://www.kaggle.com/datasets/rounakbanik/pokemon\n",
        "\n",
        "La razón por la que utilizaremos este Dataset es porque es relativamente pequeño (1072 datos); fácil de entender y explicar; presenta datos de tipo String, Int, y categóricos; y requiere de preprocesamiento, pues tiene algunos errores de inputación y datos atípicos.\n",
        "\n",
        "Por favor familiarícese tanto con la forma del Dataset como con su archivo de explicación antes de iniciar."
      ],
      "metadata": {
        "id": "eLomIJDTZrKM"
      }
    },
    {
      "cell_type": "markdown",
      "source": [
        "## 1. Preprocesamiento"
      ],
      "metadata": {
        "id": "AhayaxbUFllV"
      }
    },
    {
      "cell_type": "markdown",
      "source": [
        "\n",
        "Iniciaremos haciendo un analisis exploratorio de los datos: cargaremos el DataFrame, revisaremos que los tipos de los datos estén bien cargados, y si hay datos faltantes en el dataset tomaremos decisiones respecto a estos.\n",
        "\n",
        "Posteriormente a esto revisaremos las variables numéricas más a fondo para buscar datos atípicos y encontrar una explicación para estos (por ejemplo, datos mal escritos o datos diferentes por diseño)."
      ],
      "metadata": {
        "id": "Ru_SfQ3indoh"
      }
    },
    {
      "cell_type": "markdown",
      "source": [
        "### 1.1 Variables categóricas y tipo String"
      ],
      "metadata": {
        "id": "5MWjwUBfhmSe"
      }
    },
    {
      "cell_type": "markdown",
      "source": [
        "Empecemos cargando el DataFrame y analizando los tipos de datos que Pandas asignó a cada variable."
      ],
      "metadata": {
        "id": "y5Mc2cnbhx3a"
      }
    },
    {
      "cell_type": "code",
      "source": [
        "import pandas as pd\n",
        "import numpy as np\n",
        "import warnings\n",
        "import itertools\n",
        "import matplotlib.pyplot as plt\n",
        "import seaborn as sns\n",
        "\n",
        "\n",
        "# Ignoramos las alertas de versión para mayor legibilidad\n",
        "warnings.filterwarnings('ignore')\n",
        "\n",
        "df = pd.read_csv('/content/Pokemon.csv')\n",
        "\n",
        "# Asignamos un valor 'seed' para reproducibilidad\n",
        "np.random.seed(42)\n",
        "\n",
        "print('Tipos de las columnas leídos por Pandas\\n')\n",
        "print(df.info())"
      ],
      "metadata": {
        "colab": {
          "base_uri": "https://localhost:8080/"
        },
        "id": "Vasf-GziGZNu",
        "outputId": "c97b4374-c02a-4b9d-b988-8c98e69f5dba"
      },
      "execution_count": 1,
      "outputs": [
        {
          "output_type": "stream",
          "name": "stdout",
          "text": [
            "Tipos de las columnas leídos por Pandas\n",
            "\n",
            "<class 'pandas.core.frame.DataFrame'>\n",
            "RangeIndex: 1072 entries, 0 to 1071\n",
            "Data columns (total 13 columns):\n",
            " #   Column      Non-Null Count  Dtype \n",
            "---  ------      --------------  ----- \n",
            " 0   number      1072 non-null   int64 \n",
            " 1   name        1072 non-null   object\n",
            " 2   type1       1072 non-null   object\n",
            " 3   type2       574 non-null    object\n",
            " 4   total       1072 non-null   int64 \n",
            " 5   hp          1072 non-null   int64 \n",
            " 6   attack      1072 non-null   int64 \n",
            " 7   defense     1072 non-null   int64 \n",
            " 8   sp_attack   1072 non-null   int64 \n",
            " 9   sp_defense  1072 non-null   int64 \n",
            " 10  speed       1072 non-null   int64 \n",
            " 11  generation  1072 non-null   int64 \n",
            " 12  legendary   1072 non-null   bool  \n",
            "dtypes: bool(1), int64(9), object(3)\n",
            "memory usage: 101.7+ KB\n",
            "None\n"
          ]
        }
      ]
    },
    {
      "cell_type": "markdown",
      "source": [
        "En este caso **teniendo en cuenta el material de orígen**, sabemos que las variables 'type1', 'type2', y 'generation' deberían ser categóricas,  no tipo object ni int64.\n",
        "\n",
        "Sin embargo, trabajar con variables de tipo categóricas es complicado, por lo tanto, primero les realizaremos todas las transformaciones y el preprocesamiento necesario, después de hecho todo esto, las pasaremos a tipo categórico para ahorrar espacio de almacenamiento (esto se explicará más adelante).\n",
        "\n",
        "Por lo tanto, primero realizacemos un análisis a estas y apliquemos los cambios necesarios."
      ],
      "metadata": {
        "id": "UzVOx7olq-Jt"
      }
    },
    {
      "cell_type": "code",
      "source": [
        "# Estandarizamos la escritura de los datos tipo String\n",
        "df['name'] = df['name'].str.title()\n",
        "df['type1'] = df['type1'].str.title()\n",
        "df['type2'] = df['type2'].str.title()\n",
        "\n",
        "print('\\nAnalisis de las columnas de texto:\\n')\n",
        "print('Datos únicos de name:', len(df.name.unique()),\n",
        "      '\\nDatos únicos de type1:', len(df.type1.unique()),\n",
        "      '\\nDatos únicos de type2:', len(df.type2.unique()),\n",
        "      '\\nDatos únicos de generation:', len(df.generation.unique()))\n",
        "\n",
        "print('\\nDatos únicos de type1, type2 y generation:\\n')\n",
        "print(df['type1'].value_counts(), '\\n')\n",
        "print(df['type2'].value_counts(), '\\n')\n",
        "print(df['generation'].value_counts())"
      ],
      "metadata": {
        "colab": {
          "base_uri": "https://localhost:8080/"
        },
        "id": "SWXHxBR4SFGT",
        "outputId": "bf7a2d89-6dfd-4da6-f4aa-78e8baab537d"
      },
      "execution_count": 2,
      "outputs": [
        {
          "output_type": "stream",
          "name": "stdout",
          "text": [
            "\n",
            "Analisis de las columnas de texto:\n",
            "\n",
            "Datos únicos de name: 1072 \n",
            "Datos únicos de type1: 20 \n",
            "Datos únicos de type2: 19 \n",
            "Datos únicos de generation: 9\n",
            "\n",
            "Datos únicos de type1, type2 y generation:\n",
            "\n",
            "type1\n",
            "Water        136\n",
            "Normal       117\n",
            "Grass         94\n",
            "Bug           83\n",
            "Psychic       80\n",
            "Fire          67\n",
            "Electric      63\n",
            "Rock          60\n",
            "Dark          48\n",
            "Fighting      45\n",
            "Ghost         43\n",
            "Poison        42\n",
            "Ground        42\n",
            "Dragon        41\n",
            "Steel         39\n",
            "Ice           38\n",
            "Fairy         23\n",
            "Flying         9\n",
            "Blastoise      1\n",
            "Graass         1\n",
            "Name: count, dtype: int64 \n",
            "\n",
            "type2\n",
            "Flying      114\n",
            "Fairy        44\n",
            "Psychic      43\n",
            "Poison       41\n",
            "Ground       39\n",
            "Steel        36\n",
            "Dragon       35\n",
            "Fighting     32\n",
            "Grass        29\n",
            "Dark         28\n",
            "Ghost        26\n",
            "Water        22\n",
            "Ice          19\n",
            "Fire         18\n",
            "Rock         16\n",
            "Normal       11\n",
            "Electric     11\n",
            "Bug          10\n",
            "Name: count, dtype: int64 \n",
            "\n",
            "generation\n",
            "1    178\n",
            "5    166\n",
            "3    160\n",
            "8    139\n",
            "4    121\n",
            "7    114\n",
            "2    106\n",
            "6     85\n",
            "0      3\n",
            "Name: count, dtype: int64\n"
          ]
        }
      ]
    },
    {
      "cell_type": "markdown",
      "source": [
        "Analizando los datos únicos resultantes de ambas columnas, encontramos varios problemas:\n",
        "\n",
        "* 'type2' tiene una gran cantidad de datos faltantes.\n",
        "* 'type1' tiene datos mal escritos.\n",
        "* 'generation' tiene un valor 0 (las generaciones de Pokémon empiezan por la 1).\n",
        "* 'name' tiene dos datos repetidos (No tocaremos esto, pues los datos repetidos de 'name' coincidencialmente son los datos que tienen 'type1' mal escrito)\n",
        "\n",
        "Primero lidiaremos con los datos faltantes de type2.\n",
        "\n",
        "Un analisis del dataset y de su material de origen revela que los datos faltantes no son aleatorios: un dato faltante en type2 significa que el pokemon no tiene un tipo secundario, por lo tanto, imputaremos los datos faltantes como una nueva categoría \"None\".\n",
        "\n",
        "**SIEMPRE es importante, antes de iniciar con un análisis de datos exploratorio, familiarizarse con el Dataset**, es gracias a esto que supimos diferenciar los datos categóricos de los numéricos, y es por esto que sabemos que 'type2' no tiene valores faltantes aleatorios."
      ],
      "metadata": {
        "id": "eJWaXFGRTPtD"
      }
    },
    {
      "cell_type": "code",
      "source": [
        "df['type2'] = df['type2'].fillna('None')\n",
        "print(df['type2'].value_counts())"
      ],
      "metadata": {
        "colab": {
          "base_uri": "https://localhost:8080/"
        },
        "id": "G3g_WZcPT3zo",
        "outputId": "63d97036-8de9-40d2-f836-07fb1653cf49"
      },
      "execution_count": 3,
      "outputs": [
        {
          "output_type": "stream",
          "name": "stdout",
          "text": [
            "type2\n",
            "None        498\n",
            "Flying      114\n",
            "Fairy        44\n",
            "Psychic      43\n",
            "Poison       41\n",
            "Ground       39\n",
            "Steel        36\n",
            "Dragon       35\n",
            "Fighting     32\n",
            "Grass        29\n",
            "Dark         28\n",
            "Ghost        26\n",
            "Water        22\n",
            "Ice          19\n",
            "Fire         18\n",
            "Rock         16\n",
            "Normal       11\n",
            "Electric     11\n",
            "Bug          10\n",
            "Name: count, dtype: int64\n"
          ]
        }
      ]
    },
    {
      "cell_type": "markdown",
      "source": [
        "Para 'type1' , eliminaremos todas las entradas que están mal escritas. Encontrar datos mal escritos puede ser complicado en Datasets de gran tamaño, generalmente requiere de la aplicación de algoritmos de aprendizaje de máquina relacionados con similitud de texto como los que utilizan los auto-correctores de los celulares.\n",
        "\n",
        "Sin embargo, en este caso sabemos que los datos de 'type1' pertenecen a categorías limitadas, con lo que una categoría que tenga tan solo uno o dos miembros muy probablemente será un error.\n",
        "\n",
        "Considerando esto, eliminaremos todos los datos que contengan un valor de 'type1' que se repita menos de 5 veces (valor escogido arbitrariamente)."
      ],
      "metadata": {
        "id": "tw0wa_fORqgc"
      }
    },
    {
      "cell_type": "code",
      "source": [
        "categories = df['type1'].value_counts()\n",
        "categories = categories[categories[categories.index] > 5]\n",
        "\n",
        "df = df[df['type1'].isin(categories.index)]\n",
        "\n",
        "print(df['type1'].value_counts())"
      ],
      "metadata": {
        "colab": {
          "base_uri": "https://localhost:8080/"
        },
        "id": "KCV5C9p-Q4ps",
        "outputId": "75115cf2-6d8d-4769-9fa9-4dc76c488256"
      },
      "execution_count": 4,
      "outputs": [
        {
          "output_type": "stream",
          "name": "stdout",
          "text": [
            "type1\n",
            "Water       136\n",
            "Normal      117\n",
            "Grass        94\n",
            "Bug          83\n",
            "Psychic      80\n",
            "Fire         67\n",
            "Electric     63\n",
            "Rock         60\n",
            "Dark         48\n",
            "Fighting     45\n",
            "Ghost        43\n",
            "Poison       42\n",
            "Ground       42\n",
            "Dragon       41\n",
            "Steel        39\n",
            "Ice          38\n",
            "Fairy        23\n",
            "Flying        9\n",
            "Name: count, dtype: int64\n"
          ]
        }
      ]
    },
    {
      "cell_type": "markdown",
      "source": [
        "Finalmente, revisaremos los datos categorizados como 'generación 0', pues no existe una generación 0 en Pokémon."
      ],
      "metadata": {
        "id": "n6ZLS1jWtIfX"
      }
    },
    {
      "cell_type": "code",
      "source": [
        "print(df[df['generation'] == 0])"
      ],
      "metadata": {
        "colab": {
          "base_uri": "https://localhost:8080/"
        },
        "id": "7DoKmLsOtHnr",
        "outputId": "76befc9e-1c3c-4c9d-a14b-a3bd2c1a34a2"
      },
      "execution_count": 5,
      "outputs": [
        {
          "output_type": "stream",
          "name": "stdout",
          "text": [
            "     number                 name  type1 type2  total   hp  attack  defense  \\\n",
            "950     808               Meltan  Steel  None    300   46      65       65   \n",
            "951     809             Melmetal  Steel  None    600  135     143      143   \n",
            "952     809  Gigantamax Melmetal  Steel  None    600  135     143      143   \n",
            "\n",
            "     sp_attack  sp_defense  speed  generation  legendary  \n",
            "950         55          35     34           0       True  \n",
            "951         80          65     34           0       True  \n",
            "952         80          65     34           0       True  \n"
          ]
        }
      ]
    },
    {
      "cell_type": "markdown",
      "source": [
        "Investigando, encontramos que este Pokémon (y sus dos variables también aquí presentes) fue introducido en un videojuego secundario de la saga, no en uno de los principales, con lo que el DataFrame clasifica su generación como 0. Sin embargo, de acuerdo a la wiki del juego, el videojuego en el que fue introducido está situado en la septima generación, por lo tanto, le imputaremos este valor."
      ],
      "metadata": {
        "id": "2QqzYbsKt06A"
      }
    },
    {
      "cell_type": "code",
      "source": [
        "df['generation'].replace(0, 7, inplace=True)\n",
        "\n",
        "print(df['generation'].value_counts())"
      ],
      "metadata": {
        "colab": {
          "base_uri": "https://localhost:8080/"
        },
        "id": "lKdMFQzruOwo",
        "outputId": "393e3054-522f-42a1-e9d4-86f7d7fa967e"
      },
      "execution_count": 6,
      "outputs": [
        {
          "output_type": "stream",
          "name": "stdout",
          "text": [
            "generation\n",
            "1    177\n",
            "5    166\n",
            "3    160\n",
            "8    138\n",
            "4    121\n",
            "7    117\n",
            "2    106\n",
            "6     85\n",
            "Name: count, dtype: int64\n"
          ]
        }
      ]
    },
    {
      "cell_type": "markdown",
      "source": [
        "Si una variable de texto consiste en unos pocos valores que se repite muchas veces, es buena idea pasarla a tipo categórica, pues este tipo de variable consume mucho menos espacio en memoria que variables String, pues está optimizando para datos que se repiten.\n",
        "\n",
        "Teniendo esto en cuenta, convertiremos 'type1', 'type2' y 'generation' a variables categóricas para reducir su consumo de almacenamiento (no convertiremos 'name' a categórico debido a que ninguno de sus datos se repite, con lo que la ganancia de espacio de almacenamiento sería trivial)."
      ],
      "metadata": {
        "id": "Q9-doDdhJQWc"
      }
    },
    {
      "cell_type": "code",
      "source": [
        "df['type1'] = df['type1'].astype('category')\n",
        "df['type2'] = df['type2'].astype('category')\n",
        "df['generation'] = df['generation'].astype('category')\n",
        "df.info()"
      ],
      "metadata": {
        "colab": {
          "base_uri": "https://localhost:8080/"
        },
        "id": "kl8c0RzrXkYk",
        "outputId": "d7c8cfcd-2d27-4807-f780-c13909041141"
      },
      "execution_count": 7,
      "outputs": [
        {
          "output_type": "stream",
          "name": "stdout",
          "text": [
            "<class 'pandas.core.frame.DataFrame'>\n",
            "Index: 1070 entries, 0 to 1071\n",
            "Data columns (total 13 columns):\n",
            " #   Column      Non-Null Count  Dtype   \n",
            "---  ------      --------------  -----   \n",
            " 0   number      1070 non-null   int64   \n",
            " 1   name        1070 non-null   object  \n",
            " 2   type1       1070 non-null   category\n",
            " 3   type2       1070 non-null   category\n",
            " 4   total       1070 non-null   int64   \n",
            " 5   hp          1070 non-null   int64   \n",
            " 6   attack      1070 non-null   int64   \n",
            " 7   defense     1070 non-null   int64   \n",
            " 8   sp_attack   1070 non-null   int64   \n",
            " 9   sp_defense  1070 non-null   int64   \n",
            " 10  speed       1070 non-null   int64   \n",
            " 11  generation  1070 non-null   category\n",
            " 12  legendary   1070 non-null   bool    \n",
            "dtypes: bool(1), category(3), int64(8), object(1)\n",
            "memory usage: 89.5+ KB\n"
          ]
        }
      ]
    },
    {
      "cell_type": "markdown",
      "source": [
        "### 1.2 Datos repetidos"
      ],
      "metadata": {
        "id": "_aJV--8yxwLH"
      }
    },
    {
      "cell_type": "markdown",
      "source": [
        "Como observamos anteriormente cuando analizamos la 'generación 0' con Melmetal y Gigantamax Melmetal, algunos pokémones tienen variantes con exactamente las mismas características e, incluso, el mísmo número de registro 'number'. Observemos esto más a fondo."
      ],
      "metadata": {
        "id": "sjSTpz6by5_z"
      }
    },
    {
      "cell_type": "code",
      "source": [
        "print(df[df.duplicated(subset='number', keep=False)].head(7))"
      ],
      "metadata": {
        "colab": {
          "base_uri": "https://localhost:8080/"
        },
        "id": "dxnevltXwtgR",
        "outputId": "b3f63dc2-1131-4fae-bb8d-f8456be6348b"
      },
      "execution_count": 8,
      "outputs": [
        {
          "output_type": "stream",
          "name": "stdout",
          "text": [
            "    number                  name  type1   type2  total  hp  attack  defense  \\\n",
            "2        3              Venusaur  Grass  Poison    525  80      82       83   \n",
            "3        3         Mega Venusaur  Grass  Poison    625  80     100      123   \n",
            "4        3   Gigantamax Venusaur  Grass  Poison    525  80      82       83   \n",
            "7        6             Charizard   Fire  Flying    534  78      84       78   \n",
            "8        6      Mega Charizard X   Fire  Dragon    634  78     130      111   \n",
            "9        6      Mega Charizard Y   Fire  Flying    634  78     104       78   \n",
            "10       6  Gigantamax Charizard   Fire  Flying    534  78      84       78   \n",
            "\n",
            "    sp_attack  sp_defense  speed generation  legendary  \n",
            "2         100         100     80          1      False  \n",
            "3         122         120     80          1      False  \n",
            "4         100         100     80          1      False  \n",
            "7         109          85    100          1      False  \n",
            "8         130          85    100          1      False  \n",
            "9         159         115    100          1      False  \n",
            "10        109          85    100          1      False  \n"
          ]
        }
      ]
    },
    {
      "cell_type": "markdown",
      "source": [
        "Podemos observar que las versiones 'Mega' de los pokémones tienen estadisticas e, incluso, tipos diferentes, con lo que no pueden ser consideradas datos repetidos. Sin embargo, las versiones 'Gigantamax' tienen exactamente las mismas estadísticas y tipos.\n",
        "\n",
        "Considerando esto, nos desharemos de todos los datos que coincidan en 'number' y todas sus estadísticas de combate (desde 'type1' hasta 'speed'), pues para propósitos de entrenamiento son simplemente datos repetidos."
      ],
      "metadata": {
        "id": "NM523xAK0W3o"
      }
    },
    {
      "cell_type": "code",
      "source": [
        "# Creamos una lista con las columnas que no queremos tener duplicadas\n",
        "dup_cols = list(df.loc[0, 'type1':'speed'].index)\n",
        "dup_cols.append('number')\n",
        "\n",
        "# Conservamos el primer dato, pues este es el Pokémon 'original'\n",
        "df.drop_duplicates(subset=dup_cols, keep='first', inplace=True)\n",
        "\n",
        "print(df.info())"
      ],
      "metadata": {
        "colab": {
          "base_uri": "https://localhost:8080/"
        },
        "id": "jlvJZOL7zhag",
        "outputId": "7e481b22-7806-4dcc-8339-805e317d6bd0"
      },
      "execution_count": 9,
      "outputs": [
        {
          "output_type": "stream",
          "name": "stdout",
          "text": [
            "<class 'pandas.core.frame.DataFrame'>\n",
            "Index: 1034 entries, 0 to 1071\n",
            "Data columns (total 13 columns):\n",
            " #   Column      Non-Null Count  Dtype   \n",
            "---  ------      --------------  -----   \n",
            " 0   number      1034 non-null   int64   \n",
            " 1   name        1034 non-null   object  \n",
            " 2   type1       1034 non-null   category\n",
            " 3   type2       1034 non-null   category\n",
            " 4   total       1034 non-null   int64   \n",
            " 5   hp          1034 non-null   int64   \n",
            " 6   attack      1034 non-null   int64   \n",
            " 7   defense     1034 non-null   int64   \n",
            " 8   sp_attack   1034 non-null   int64   \n",
            " 9   sp_defense  1034 non-null   int64   \n",
            " 10  speed       1034 non-null   int64   \n",
            " 11  generation  1034 non-null   category\n",
            " 12  legendary   1034 non-null   bool    \n",
            "dtypes: bool(1), category(3), int64(8), object(1)\n",
            "memory usage: 86.6+ KB\n",
            "None\n"
          ]
        }
      ]
    },
    {
      "cell_type": "markdown",
      "source": [
        "### 1.3 Datos atípicos"
      ],
      "metadata": {
        "id": "SeGskin9rAUD"
      }
    },
    {
      "cell_type": "markdown",
      "source": [
        "Ahora, por medio del método de rango intercuartílico, buscaremos datos con características anormales que puedan ser considerados datos atípicos en cada una de las columnas de tipo Int, por medio de un for loop.\n",
        "\n",
        "El **Rango Intercuartílico** es una medida de dispersión estadística utilizada para encontrar datos lo suficientemente alejados de la media como para ser considerados atípicos. Se define como 'la diferencia entre el tercer y el primer cuartil de una distribución'. Si un dato está 1.5 rangos intercuartílicos alejado de la media de la distribución, es considerado un dato atípico o extremo.\n",
        "\n",
        "**Para la busqueda de datos atípicos, ignoraremos a los Pokémones legendarios, pues estos son atípicos por diseño y son esenciales para el modelo.**"
      ],
      "metadata": {
        "id": "VcGdo-i_3dfX"
      }
    },
    {
      "cell_type": "code",
      "source": [
        "atipicos = list()\n",
        "\n",
        "df_no_leg = df[df['legendary'] == False]\n",
        "\n",
        "for column in (df.loc[0, 'total':'speed'].index):\n",
        "  # Calculamos el IQR y los limites superior e inferior\n",
        "  iqr = df[column].quantile(0.75) - df[column].quantile(0.25)\n",
        "  low_iqr = df[column].quantile(0.25) - (1.5 * iqr)\n",
        "  high_iqr = df[column].quantile(0.75) + (1.5 * iqr)\n",
        "\n",
        "  # Guardamos los datos que se salgan de este rango\n",
        "  atipicos.append(list(df_no_leg[(df_no_leg[column] < low_iqr) |\n",
        "                                 (df_no_leg[column] > high_iqr)].index))\n",
        "\n",
        "# Desempacamos la lista de listas en una sola lista de valores únicos\n",
        "atipicos = sorted(list(itertools.chain(*atipicos)))\n",
        "\n",
        "print('Cantidad de datos atípicos:', len(atipicos))\n",
        "print(df[df.index.isin(atipicos)])"
      ],
      "metadata": {
        "colab": {
          "base_uri": "https://localhost:8080/"
        },
        "id": "34ybrltn1eeB",
        "outputId": "ffb9cb6c-729c-4e55-abec-f5ffdd8a73d4"
      },
      "execution_count": 10,
      "outputs": [
        {
          "output_type": "stream",
          "name": "stdout",
          "text": [
            "Cantidad de datos atípicos: 39\n",
            "     number            name     type1     type2  total   hp  attack  defense  \\\n",
            "57       40      Wigglytuff    Normal     Fairy    435  140      70       45   \n",
            "89       65   Mega Alakazam   Psychic      None    590   55      50       65   \n",
            "113      80    Mega Slowbro     Water   Psychic    590   95      75      180   \n",
            "127      91        Cloyster     Water       Ice    525   50      95      180   \n",
            "131      94     Mega Gengar     Ghost    Poison    600   60      65       80   \n",
            "133      95            Onix      Rock    Ground    385   35      45      160   \n",
            "155     113         Chansey    Normal      None    450  250       5        5   \n",
            "177     131          Lapras     Water       Ice    535  130      85       80   \n",
            "182     134        Vaporeon     Water      None    525  130      65       60   \n",
            "192     143         Snorlax    Normal      None    540  160     110       65   \n",
            "237     181   Mega Ampharos  Electric    Dragon    610   90      95      105   \n",
            "259     202       Wobbuffet   Psychic      None    405  190      33       58   \n",
            "265     208         Steelix     Steel    Ground    510   75      85      200   \n",
            "266     208    Mega Steelix     Steel    Ground    610   75     125      230   \n",
            "272     213         Shuckle       Bug      Rock    505   20      10      230   \n",
            "274     214  Mega Heracross       Bug  Fighting    600   80     185      115   \n",
            "304     242         Blissey    Normal      None    540  255      10       10   \n",
            "351     282  Mega Gardevoir   Psychic     Fairy    618   68      85       65   \n",
            "358     289         Slaking    Normal      None    670  150     160      100   \n",
            "360     291         Ninjask       Bug    Flying    456   61      90       45   \n",
            "361     292        Shedinja       Bug     Ghost    236    1      90       45   \n",
            "366     297        Hariyama  Fighting      None    474  144     120       60   \n",
            "377     306          Aggron     Steel      Rock    530   70     110      180   \n",
            "378     306     Mega Aggron     Steel      None    630   70     140      230   \n",
            "395     320         Wailmer     Water      None    400  130      70       35   \n",
            "396     321         Wailord     Water      None    500  170      90       45   \n",
            "501     411       Bastiodon      Rock     Steel    495   60      52      168   \n",
            "518     426        Drifblim     Ghost    Flying    498  150      80       44   \n",
            "539     445   Mega Garchomp    Dragon    Ground    700  108     170      115   \n",
            "540     446        Munchlax    Normal      None    390  135      85       40   \n",
            "705     594       Alomomola     Water      None    470  165      75       80   \n",
            "791     671         Florges     Fairy      None    552   78      65       68   \n",
            "841     713         Avalugg       Ice      None    514   95     117      184   \n",
            "886     748         Toxapex    Poison     Water    495   50      63      152   \n",
            "935     796       Xurkitree  Electric      None    570   83      89       71   \n",
            "937     798         Kartana     Grass     Steel    570   59     181      131   \n",
            "938     799        Guzzlord      Dark    Dragon    570  223     101       53   \n",
            "947     805       Stakataka      Rock     Steel    570   61     131      211   \n",
            "\n",
            "     sp_attack  sp_defense  speed generation  legendary  \n",
            "57          85          50     45          1      False  \n",
            "89         175          95    150          1      False  \n",
            "113        130          80     30          1      False  \n",
            "127         85          45     70          1      False  \n",
            "131        170          95    130          1      False  \n",
            "133         30          45     70          1      False  \n",
            "155         35         105     50          1      False  \n",
            "177         85          95     60          1      False  \n",
            "182        110          95     65          1      False  \n",
            "192         65         110     30          1      False  \n",
            "237        165         110     45          2      False  \n",
            "259         33          58     33          2      False  \n",
            "265         55          65     30          2      False  \n",
            "266         55          95     30          2      False  \n",
            "272         10         230      5          2      False  \n",
            "274         40         105     75          2      False  \n",
            "304         75         135     55          2      False  \n",
            "351        165         135    100          3      False  \n",
            "358         95          65    100          3      False  \n",
            "360         50          50    160          3      False  \n",
            "361         30          30     40          3      False  \n",
            "366         40          60     50          3      False  \n",
            "377         60          60     50          3      False  \n",
            "378         60          80     50          3      False  \n",
            "395         70          35     60          3      False  \n",
            "396         90          45     60          3      False  \n",
            "501         47         138     30          4      False  \n",
            "518         90          54     80          4      False  \n",
            "539        120          95     92          4      False  \n",
            "540         40          85      5          4      False  \n",
            "705         40          45     65          5      False  \n",
            "791        112         154     75          6      False  \n",
            "841         44          46     28          6      False  \n",
            "886         53         142     35          7      False  \n",
            "935        173          71     83          7      False  \n",
            "937         59          31    109          7      False  \n",
            "938         97          53     43          7      False  \n",
            "947         53         101     13          7      False  \n"
          ]
        }
      ]
    },
    {
      "cell_type": "markdown",
      "source": [
        "En este caso, podemos observar que ninguno de los 39 datos atípicos se origina de un error de escritura (ni siquiera el de Shedinja, quien solo tiene 1 punto de vida), sino que son datos leales al juego; aún así, incluirlos en los datos de entrenamiento puede afectar negativamente las medidas de tendencia central de nuestro Dataset e introducir ruido a nuestro modelo, por lo tanto, los eliminaremos de nuestro Dataset de entrenamiento, pero los mantendremos en un Dataset diferente para luego usarlos en las predicciones.\n"
      ],
      "metadata": {
        "id": "wfy9Yx_GAzJN"
      }
    },
    {
      "cell_type": "code",
      "source": [
        "df_original = df.copy()\n",
        "\n",
        "df = df[~df.index.isin(atipicos)]\n",
        "print(df.info())"
      ],
      "metadata": {
        "colab": {
          "base_uri": "https://localhost:8080/"
        },
        "id": "PiSEg8k7L_-J",
        "outputId": "852b5f58-2802-46b2-93ff-1f0d7a8a8ced"
      },
      "execution_count": 11,
      "outputs": [
        {
          "output_type": "stream",
          "name": "stdout",
          "text": [
            "<class 'pandas.core.frame.DataFrame'>\n",
            "Index: 996 entries, 0 to 1071\n",
            "Data columns (total 13 columns):\n",
            " #   Column      Non-Null Count  Dtype   \n",
            "---  ------      --------------  -----   \n",
            " 0   number      996 non-null    int64   \n",
            " 1   name        996 non-null    object  \n",
            " 2   type1       996 non-null    category\n",
            " 3   type2       996 non-null    category\n",
            " 4   total       996 non-null    int64   \n",
            " 5   hp          996 non-null    int64   \n",
            " 6   attack      996 non-null    int64   \n",
            " 7   defense     996 non-null    int64   \n",
            " 8   sp_attack   996 non-null    int64   \n",
            " 9   sp_defense  996 non-null    int64   \n",
            " 10  speed       996 non-null    int64   \n",
            " 11  generation  996 non-null    category\n",
            " 12  legendary   996 non-null    bool    \n",
            "dtypes: bool(1), category(3), int64(8), object(1)\n",
            "memory usage: 83.4+ KB\n",
            "None\n"
          ]
        }
      ]
    },
    {
      "cell_type": "markdown",
      "source": [
        "Anteriormente no incluímos a los legendarios en nuestro análisis, pero si graficamos los datos (incluyendo a los legendarios) encontramos un problema bastante grande."
      ],
      "metadata": {
        "id": "Vr3ESOekMAnA"
      }
    },
    {
      "cell_type": "code",
      "source": [
        "sns.scatterplot(x='number', y='total', data=df)\n",
        "plt.show()"
      ],
      "metadata": {
        "colab": {
          "base_uri": "https://localhost:8080/",
          "height": 449
        },
        "id": "ZhjMfluduG9W",
        "outputId": "850a7991-c637-496e-cc3d-9fd960f983a4"
      },
      "execution_count": 12,
      "outputs": [
        {
          "output_type": "display_data",
          "data": {
            "text/plain": [
              "<Figure size 640x480 with 1 Axes>"
            ],
            "image/png": "[encoded data removed]"
          },
          "metadata": {}
        }
      ]
    },
    {
      "cell_type": "markdown",
      "source": [
        "Este dato atípico incluso entre los legendarios es Eternamax Eternatus (lo encontraremos si visualizamos la lista ordenada de forma descendente en su valor 'total'). Sus estadísticas duplican a la mayoría de otros Pokémones, legendarios incluidos.\n",
        "\n",
        "Este dato será eliminado tanto del DataFrame de entrenamiento como del original (luego usaremos el original para analizar medidas de tendencia central), pues solo existe en los juegos como un enemigo y su objetivo es ser extremadamente fuerte, mantenerlo en el DataFrame podría afectar negativamente a nuestro modelo y no nos aportará nada. **En caso de que quisieramos clasificarlo luego de entrenado el modelo, podríamos tomar sus datos y usar el modelo para hacer una predicción**, pero no nos es útil como dato de entrenamiento."
      ],
      "metadata": {
        "id": "8oRIrhOLt-d2"
      }
    },
    {
      "cell_type": "code",
      "source": [
        "print('DataFrame antes de borrar el valor atípico:\\n\\n',\n",
        "      df.sort_values('total', ascending=False), '\\n')\n",
        "\n",
        "df.drop(1057, inplace=True)\n",
        "df_original.drop(1057, inplace=True)\n",
        "\n",
        "print('DataFrame después de borrar el valor atípico:\\n\\n', df.sort_values('total', ascending=False))"
      ],
      "metadata": {
        "colab": {
          "base_uri": "https://localhost:8080/"
        },
        "id": "7R9G88Uv4dH3",
        "outputId": "e95103b3-2edd-418c-d580-d22bc63bdb92"
      },
      "execution_count": 13,
      "outputs": [
        {
          "output_type": "stream",
          "name": "stdout",
          "text": [
            "DataFrame antes de borrar el valor atípico:\n",
            "\n",
            "       number                   name    type1     type2  total   hp  attack  \\\n",
            "1057     890    Eternamax Eternatus   Poison    Dragon   1125  255     115   \n",
            "471      384          Mega Rayquaza   Dragon    Flying    780  105     180   \n",
            "205      150          Mega Mewtwo Y  Psychic      None    780  106     150   \n",
            "204      150          Mega Mewtwo X  Psychic  Fighting    780  106     190   \n",
            "469      383         Primal Groudon   Ground      Fire    770  100     180   \n",
            "...      ...                    ...      ...       ...    ...  ...     ...   \n",
            "367      298                Azurill   Normal     Fairy    190   50      20   \n",
            "1031     872                   Snom      Ice       Bug    185   30      25   \n",
            "247      191                Sunkern    Grass      None    180   30      30   \n",
            "971      824                Blipbug      Bug      None    180   25      20   \n",
            "883      746  Wishiwashi Solo Forme    Water      None    175   45      20   \n",
            "\n",
            "      defense  sp_attack  sp_defense  speed generation  legendary  \n",
            "1057      250        125         250    130          8       True  \n",
            "471       100        180         100    115          3       True  \n",
            "205        70        194         120    140          1       True  \n",
            "204       100        154         100    130          1       True  \n",
            "469       160        150          90     90          3       True  \n",
            "...       ...        ...         ...    ...        ...        ...  \n",
            "367        40         20          40     20          3      False  \n",
            "1031       35         45          30     20          8      False  \n",
            "247        30         30          30     30          2      False  \n",
            "971        20         25          45     45          8      False  \n",
            "883        20         25          25     40          7      False  \n",
            "\n",
            "[996 rows x 13 columns] \n",
            "\n",
            "DataFrame después de borrar el valor atípico:\n",
            "\n",
            "       number                   name    type1     type2  total   hp  attack  \\\n",
            "205      150          Mega Mewtwo Y  Psychic      None    780  106     150   \n",
            "204      150          Mega Mewtwo X  Psychic  Fighting    780  106     190   \n",
            "471      384          Mega Rayquaza   Dragon    Flying    780  105     180   \n",
            "469      383         Primal Groudon   Ground      Fire    770  100     180   \n",
            "467      382          Primal Kyogre    Water      None    770  100     150   \n",
            "...      ...                    ...      ...       ...    ...  ...     ...   \n",
            "367      298                Azurill   Normal     Fairy    190   50      20   \n",
            "1031     872                   Snom      Ice       Bug    185   30      25   \n",
            "971      824                Blipbug      Bug      None    180   25      20   \n",
            "247      191                Sunkern    Grass      None    180   30      30   \n",
            "883      746  Wishiwashi Solo Forme    Water      None    175   45      20   \n",
            "\n",
            "      defense  sp_attack  sp_defense  speed generation  legendary  \n",
            "205        70        194         120    140          1       True  \n",
            "204       100        154         100    130          1       True  \n",
            "471       100        180         100    115          3       True  \n",
            "469       160        150          90     90          3       True  \n",
            "467        90        180         160     90          3       True  \n",
            "...       ...        ...         ...    ...        ...        ...  \n",
            "367        40         20          40     20          3      False  \n",
            "1031       35         45          30     20          8      False  \n",
            "971        20         25          45     45          8      False  \n",
            "247        30         30          30     30          2      False  \n",
            "883        20         25          25     40          7      False  \n",
            "\n",
            "[995 rows x 13 columns]\n"
          ]
        }
      ]
    },
    {
      "cell_type": "markdown",
      "source": [
        "Por último, mezclaremos los datos para que no estén ordenados por generación.\n",
        "\n",
        "Si no hacemos esto, el modelo podría aprender tendencias que sean resultado de los cambios en los datos con el tiempo y, aunque esto pueda ser interesante **en otros modelos** para responder algunas preguntas sobre la forma en que los datos han cambiado con los años, para KMeans puede introducir un prejuicio innecesario y posiblemente dañino.\n",
        "\n",
        "Como al inicio del proyecto se configuró un valor 'seed', el DataFrame mezclado **siempre debe ser el mismo** la primera vez que se corra el código."
      ],
      "metadata": {
        "id": "8hhG56oBK1cU"
      }
    },
    {
      "cell_type": "code",
      "source": [
        "df = df.sample(frac=1).reset_index(drop=True)\n",
        "print(df.head())"
      ],
      "metadata": {
        "colab": {
          "base_uri": "https://localhost:8080/"
        },
        "id": "cufuW6NMLPsn",
        "outputId": "c4255efc-7c82-4340-8771-ad27b37f4b31"
      },
      "execution_count": 14,
      "outputs": [
        {
          "output_type": "stream",
          "name": "stdout",
          "text": [
            "   number        name   type1 type2  total  hp  attack  defense  sp_attack  \\\n",
            "0     831      Wooloo  Normal  None    270  42      40       55         40   \n",
            "1     470     Leafeon   Grass  None    525  65     110      130         60   \n",
            "2     504      Patrat  Normal  None    255  45      55       39         35   \n",
            "3     588  Karrablast     Bug  None    315  50      75       45         40   \n",
            "4     564    Tirtouga   Water  Rock    355  54      78      103         53   \n",
            "\n",
            "   sp_defense  speed generation  legendary  \n",
            "0          45     48          8      False  \n",
            "1          65     95          4      False  \n",
            "2          39     42          5      False  \n",
            "3          45     60          5      False  \n",
            "4          45     22          5      False  \n"
          ]
        }
      ]
    },
    {
      "cell_type": "markdown",
      "source": [
        "Con esto termina la sección de preprocesamiento."
      ],
      "metadata": {
        "id": "4lWRi9UMILgU"
      }
    },
    {
      "cell_type": "markdown",
      "source": [
        "## 2. Preparación y entrenamiento del modelo"
      ],
      "metadata": {
        "id": "tHwXOJnxJIDJ"
      }
    },
    {
      "cell_type": "markdown",
      "source": [
        "### 2.1 Reducción de dimensionalidad"
      ],
      "metadata": {
        "id": "XHp_wiAYQlTu"
      }
    },
    {
      "cell_type": "markdown",
      "source": [
        "Para el algoritmo de K-Means es ideal reducir la dimensionalidad del DataFrame, pues una dimensionalidad alta puede llevar a tiempos de ejecución muy altos y, peor aún, puede restarle significancia a las características importantes, dándole prioridad al ruido.\n",
        "\n",
        "Es por esto que debemos analizar las dimensiones de nuestros datos e intentar reducirlas lo más posible. En este caso, lo haremos por medio de un análisis de correlación: si dos variables están muy correlacionadas, significa que una puede ser aproximadamente expresada por medio de la otra.\n",
        "\n",
        "Buscaremos variables altamente correlacionadas y entrenaremos nuestro modelo únicamente con estas."
      ],
      "metadata": {
        "id": "3u55lb4JL9yc"
      }
    },
    {
      "cell_type": "code",
      "source": [
        "sns.heatmap(df.loc[:,'total':'speed'].corr(), annot=True)\n",
        "plt.show()"
      ],
      "metadata": {
        "colab": {
          "base_uri": "https://localhost:8080/",
          "height": 500
        },
        "id": "BwK14zTMFccI",
        "outputId": "6b618cb0-3faa-45a4-e4de-b21360b9062b"
      },
      "execution_count": 15,
      "outputs": [
        {
          "output_type": "display_data",
          "data": {
            "text/plain": [
              "<Figure size 640x480 with 2 Axes>"
            ],
            "image/png": "[encoded data removed]"
          },
          "metadata": {}
        }
      ]
    },
    {
      "cell_type": "markdown",
      "source": [
        "En este caso, la variable 'total' claramente está corelacionada con todas las demás, y es un buen indicador de la 'calidad' del Pokémon, por lo tanto la mantendremos en nuestro análisis.\n",
        "\n",
        "La variable 'sp_attack' tiene una correlación muy alta con 'sp_defense' y una buena correlación con'speed', por lo tanto, la escogemos en representación de estas dos variables.\n",
        "\n",
        "Finalmente, la variable 'attack' tiene una correlación alta con 'hp' con 'defense', por lo cual también la escogemos.\n",
        "\n",
        "Usando estas tres variables, con correlaciones altas, minimizamos la perdida de información. Almacenaremos estas variables en un nuevo Array de Numpy **con valores estandarizados** con el mismo orden en caso de que necesitemos revertir los cambios hechos luego del preprocesamiento.\n",
        "\n",
        "La estandarización en este caso es importante, pues KMeans utiliza distancias para encontrar los clusters, y nuestras columnas tienen escalas diferentes. También podríamos aplicar una normalización."
      ],
      "metadata": {
        "id": "QvcWH2V9Wbwj"
      }
    },
    {
      "cell_type": "code",
      "source": [
        "from sklearn.preprocessing import StandardScaler\n",
        "\n",
        "\n",
        "df_reduced = np.array(df[['total', 'attack', 'sp_attack']])\n",
        "scaler = StandardScaler().fit(df_reduced)\n",
        "df_reduced = scaler.transform(df_reduced)\n",
        "print(df_reduced)"
      ],
      "metadata": {
        "colab": {
          "base_uri": "https://localhost:8080/"
        },
        "id": "HqMiqO_vNRsg",
        "outputId": "a6f631cd-6b11-4e66-924e-eb5b29a80bd3"
      },
      "execution_count": 16,
      "outputs": [
        {
          "output_type": "stream",
          "name": "stdout",
          "text": [
            "[[-1.36669641 -1.25236286 -1.01133158]\n",
            " [ 0.74840815  0.93317679 -0.39076797]\n",
            " [-1.49111432 -0.78403293 -1.16647248]\n",
            " ...\n",
            " [ 0.3751544  -0.15959303  0.85035925]\n",
            " [ 1.37049772  0.62095684  0.85035925]\n",
            " [-0.99344266 -0.47181298 -1.01133158]]\n"
          ]
        }
      ]
    },
    {
      "cell_type": "markdown",
      "source": [
        "### 2.2 Número de clusters"
      ],
      "metadata": {
        "id": "bNJmNyGYQ8J9"
      }
    },
    {
      "cell_type": "markdown",
      "source": [
        "El hiperparametro (configuración dada por el usuario) más importante para el modelo es el número de clusters que se van a generar. Hay múltiples maneras de determinar cuál es la cantidad apropiada de clusters, Aunque es una medida bastante subjetiva.\n",
        "\n",
        "Para determinar esta medida, emplearemos varios métodos y compararemos los resultados.\n",
        "\n",
        "Primero analizaremos la curva de codo, el estadístico de Gap, y la visualización de Dendrogramas"
      ],
      "metadata": {
        "id": "Hs3qHpVzQ0wk"
      }
    },
    {
      "cell_type": "code",
      "source": [
        "from sklearn.cluster import KMeans\n",
        "\n",
        "inercias=[]\n",
        "\n",
        "for i in range(1, 21):\n",
        "  cluster = KMeans(n_clusters=i).fit(df_reduced)\n",
        "  inercias.append(cluster.inertia_)\n",
        "\n",
        "sns.lineplot(x=[i for i in range(1, 21)], y=inercias, marker='o')"
      ],
      "metadata": {
        "id": "sfVjpRn2ZDTG",
        "colab": {
          "base_uri": "https://localhost:8080/",
          "height": 447
        },
        "outputId": "66defa02-7f2b-48ad-8167-27261543b48e"
      },
      "execution_count": 17,
      "outputs": [
        {
          "output_type": "execute_result",
          "data": {
            "text/plain": [
              "<Axes: >"
            ]
          },
          "metadata": {},
          "execution_count": 17
        },
        {
          "output_type": "display_data",
          "data": {
            "text/plain": [
              "<Figure size 640x480 with 1 Axes>"
            ],
            "image/png": "[encoded data removed]"
          },
          "metadata": {}
        }
      ]
    },
    {
      "cell_type": "markdown",
      "source": [
        "El objetivo de la curva de codo es determinar el número de clusters a partir del cuál la ganancia de inercia (uno de los parámetros del modelo que nos muestra qué tan 'densos' son los clusters) deja de ser significativa. Para determinar esto, debemos encontrar el \"codo\" de la curva, el punto de cambio abrupto.\n",
        "\n",
        "Esta medida es subjetiva, pero podemos ver que la ganancia deja de ser significativa alrededor del punto 4 o 5.\n",
        "\n",
        "A continuación, utilizaremos una medida menos subjetiva: El estadístico de Gap."
      ],
      "metadata": {
        "id": "XhASun8L21St"
      }
    },
    {
      "cell_type": "markdown",
      "source": [
        "El estadístico de Gap consiste en comparar la inercia del modelo con la inercia que tendría en el peor caso posible para un modelo de KMeans: una distribución uniformemente distribuída.\n",
        "\n",
        "El siguiente código fue adaptado de:\n",
        "https://www.analyticslane.com/2023/06/02/optimizar-el-numero-de-clusteres-con-gap-statistics/"
      ],
      "metadata": {
        "id": "X-wlusYPSTug"
      }
    },
    {
      "cell_type": "code",
      "source": [
        "def optimalK(data, nrefs=3, maxClusters=3):\n",
        "\n",
        "    gaps = np.zeros((len(range(1, maxClusters+1)),))\n",
        "    resultsdf = pd.DataFrame({'clusterCount':[], 'gap':[]})\n",
        "    for gap_index, k in enumerate(range(1, maxClusters+1)):\n",
        "\n",
        "        # guardara los resultados de dispersión de cada distribución simulada\n",
        "        refDisps = np.zeros(nrefs)\n",
        "\n",
        "        # Genera las muestras aleatorias indicadas con nrefs y ejecuta k-means\n",
        "        # en cada bucle obteniendo los resultados de dispersión (inercia)\n",
        "        # para cada conjunto generado.\n",
        "        for i in range(nrefs):\n",
        "\n",
        "            # Crea nuevo conjunto aleatorio de referencia\n",
        "            # Se puede usar una semilla para tener reproducibilidad\n",
        "            np.random.seed(0)\n",
        "            randomReference = np.random.random_sample(size=data.shape)\n",
        "\n",
        "            # se ajusta el modelo al conjunto de referencia\n",
        "            km = KMeans(k)\n",
        "            km.fit(randomReference)\n",
        "            # se guarda la dispersión obtenida\n",
        "            refDisp = km.inertia_\n",
        "            refDisps[i] = refDisp\n",
        "\n",
        "        # Se ajusta el modelo a los datos originales y se guarda su inercia\n",
        "        km = KMeans(k)\n",
        "        km.fit(data)\n",
        "\n",
        "        origDisp = km.inertia_\n",
        "\n",
        "        # Calcula el estadístico de gap para k clusters usando el promedio de\n",
        "        # las dispersiones de los datos simulados y la dispersión de los datos originales.\n",
        "        gap = np.log(np.mean(refDisps)) - np.log(origDisp)\n",
        "\n",
        "        # Guarda el estadístico de gap obtenido en este bucle.\n",
        "        gaps[gap_index] = gap\n",
        "\n",
        "        temp_results = pd.DataFrame({'clusterCount':k, 'gap':gap}, index=[0])\n",
        "        resultsdf = pd.concat([resultsdf, temp_results], ignore_index=True)\n",
        "\n",
        "    # Selecciona el \"primer máximo\" de los estadísticos obtenidos y devuelve\n",
        "    # su respectivo número de clusters\n",
        "    for i in range(0, len(gaps)-1):\n",
        "      if gaps[i+1] <= gaps[i]:\n",
        "        return (i+1, resultsdf)\n",
        "    return (len(gaps), resultsdf)"
      ],
      "metadata": {
        "id": "WOOjNfd703Qh"
      },
      "execution_count": 18,
      "outputs": []
    },
    {
      "cell_type": "code",
      "source": [
        "optimal = optimalK(df_reduced, 3, 30)\n",
        "sns.lineplot(x=optimal[1].clusterCount, y=optimal[1].gap, marker='o')\n",
        "plt.show()"
      ],
      "metadata": {
        "id": "wTVmZAirGCXE"
      },
      "execution_count": null,
      "outputs": []
    },
    {
      "cell_type": "markdown",
      "source": [
        "El número apropiado de clusters de acuerdo al estadístico de Gap es **el primer punto** donde la gráfica sea descendente, en este caso, 4.\n",
        "\n",
        "Anteriormente usando el método del codo habíamos determinado que el número apropiado de clusters estaba entre 3 y 4, el estadístico de Gap nos indicó que el número apropiado de clusters es 4. Esta información parece apuntar a que el número apropiado de clusters sería 4, sin embargo, haremos una última comparación."
      ],
      "metadata": {
        "id": "QqhdzKfEPMMV"
      }
    },
    {
      "cell_type": "markdown",
      "source": [
        "Un Dendrograma es un tipo de representación que aglomera los datos en categorías en base a la distancia euclidiana, similar a lo que hace KMeans. El problema es que un Dendrograma solo nos permite visualizar, no predecir.\n",
        "\n",
        "Para analizar la cantidad de clusters apropiados en base al Dendrograma, buscaremos un área de la gráfica donde haya una distancia considerable sin uniones de categorías; esto nos demostrará que las categorías creadas son lo suficientemente diferentes."
      ],
      "metadata": {
        "id": "1T5w9UMQAwKG"
      }
    },
    {
      "cell_type": "code",
      "source": [
        "from scipy.cluster import hierarchy\n",
        "\n",
        "\n",
        "values = hierarchy.linkage(df_reduced, method='complete')\n",
        "fig, ax = plt.subplots()\n",
        "dn = hierarchy.dendrogram(values, no_labels=True)\n",
        "y1=4\n",
        "y2=6\n",
        "ax.fill_between([0, 10000], y1, y2, alpha=0.25, color='red')\n",
        "plt.show()"
      ],
      "metadata": {
        "id": "S7sI79-DRyqT"
      },
      "execution_count": null,
      "outputs": []
    },
    {
      "cell_type": "markdown",
      "source": [
        "En este caso, notamos que hay un gran área donde los datos son apropiadamente representados por 5, 4 y 3 categorías. El número de categorías que mayor distancia ocupa sin una nueva unión es el de 4 categorías.\n",
        "\n",
        "Esto significa que si dividimos el Dataset en 4 Clusters, estos serán lo suficientemente diferentes de los demás para generar información útil."
      ],
      "metadata": {
        "id": "4hWY1oKYEQA7"
      }
    },
    {
      "cell_type": "markdown",
      "source": [
        "Para recopilar la información que hemos adquirido:\n",
        "\n",
        "* Con el método del codo determinamos que 3, 4 o 5 clusters serían ideales\n",
        "* El método de Gap determinó que 4 clusters serían ideales\n",
        "* EL Dendrograma mostró que los clusters serían suficientemente diferentes si se creásen 3, 4 o 5; siendo especialmente bueno en 4.\n",
        "\n",
        "Los métodos subjetivos apuntaron a un valor entre tres y cinco, mientras el estadístico de Gap apuntó a 4. Considerando esto, **el valor que utilizaremos para entrenar el modelo será 4 clusters.**"
      ],
      "metadata": {
        "id": "2XLpEVzMSbAx"
      }
    },
    {
      "cell_type": "markdown",
      "source": [
        "### 2.3 Entrenamiento del Modelo"
      ],
      "metadata": {
        "id": "eylnNAC2X1Y8"
      }
    },
    {
      "cell_type": "markdown",
      "source": [
        "El entrenamiento del modelo consiste en el ajuste de múltiples hiperparametros en búsqueda del mejor ajuste. Las gráficas y métodos anteriores buscaban determinar el valor a usar para el parámetro más importante del modelo KMeans: n_clusters.\n",
        "\n",
        "En este caso, y por simplicidad, este será el único parámetro que modificaremos. Una vez entrenemos el modelo pasaremos diréctamente a graficar los resultados (la gráfica 3D es interactiva, siéntase libre de explorarla)."
      ],
      "metadata": {
        "id": "9j_FPKcrXOcV"
      }
    },
    {
      "cell_type": "code",
      "source": [
        "import plotly.express as px\n",
        "\n",
        "mdl = KMeans(n_clusters=4).fit(df_reduced)\n",
        "\n",
        "print('Representación gráfica de los clusters formados. \\nX=total\\nY=attack\\nZ=sp_attack')\n",
        "\n",
        "px.scatter_3d(x=df_reduced[:,0],\n",
        "              y=df_reduced[:,1],\n",
        "              z=df_reduced[:,2],\n",
        "              color=mdl.labels_)"
      ],
      "metadata": {
        "id": "nqjD0vsvkwzA"
      },
      "execution_count": null,
      "outputs": []
    },
    {
      "cell_type": "markdown",
      "source": [
        "El modelo parecce segmentar bastante bien en base a las características que decidimos utilizar, por lo tanto, podríamos decir que logra su objetivo.\n",
        "\n",
        "Para hacer un análisis más a fondo de los resultados del modelo, haremos una predicción sobre el dataset original (incluyendo los datos atípicos, y ordenados por generación, pues el modelo ya está entrenado así que el orden no importa)."
      ],
      "metadata": {
        "id": "Fa1nrJJk9Mh_"
      }
    },
    {
      "cell_type": "code",
      "source": [
        "df_original['label'] = mdl.predict(\n",
        "    scaler.transform(\n",
        "        df_original[['total', 'attack', 'sp_attack']]\n",
        "    ))\n",
        "print(df_original.head())"
      ],
      "metadata": {
        "id": "OJtFjRWT9bJr"
      },
      "execution_count": null,
      "outputs": []
    },
    {
      "cell_type": "markdown",
      "source": [
        "## 3. Análisis de Clusters"
      ],
      "metadata": {
        "id": "QcwiuKTCGwk6"
      }
    },
    {
      "cell_type": "markdown",
      "source": [
        "Anteriormente, le agregamos al DataFrame inicial los cuatro clusters producidos por el modelo; ahora, analizaremos las características principales de estos clusters y las diferencias entre ellos.\n",
        "\n",
        "Primero graficaremos las características de cada cluster."
      ],
      "metadata": {
        "id": "NisU7oduHfy4"
      }
    },
    {
      "cell_type": "code",
      "source": [
        "df_original_label0 = df_original[df_original['label'] == 0]\n",
        "df_original_label0.loc[:,'hp':'speed'].hist(sharex=True, sharey=True)\n",
        "plt.xlim(right=250)\n",
        "\n",
        "plt.tight_layout()\n",
        "plt.show()"
      ],
      "metadata": {
        "id": "K-Ir_s_YDLy-"
      },
      "execution_count": null,
      "outputs": []
    },
    {
      "cell_type": "code",
      "source": [
        "df_original_label1 = df_original[df_original['label'] == 1]\n",
        "df_original_label1.loc[:,'hp':'speed'].hist(sharex=True, sharey=True)\n",
        "plt.xlim(right=250)\n",
        "\n",
        "plt.tight_layout()\n",
        "plt.show()"
      ],
      "metadata": {
        "id": "Lfd90kttHvig"
      },
      "execution_count": null,
      "outputs": []
    },
    {
      "cell_type": "code",
      "source": [
        "df_original_label2 = df_original[df_original['label'] == 2]\n",
        "df_original_label2.loc[:,'hp':'speed'].hist(sharex=True, sharey=True)\n",
        "plt.xlim(right=250)\n",
        "\n",
        "plt.tight_layout()\n",
        "plt.show()"
      ],
      "metadata": {
        "id": "6oaGQ20McjsA"
      },
      "execution_count": null,
      "outputs": []
    },
    {
      "cell_type": "code",
      "source": [
        "df_original_label3 = df_original[df_original['label'] == 3]\n",
        "df_original_label3.loc[:,'hp':'speed'].hist(sharex=True, sharey=True)\n",
        "plt.xlim(right=250)\n",
        "\n",
        "plt.tight_layout()\n",
        "plt.show()"
      ],
      "metadata": {
        "id": "_dr0m8q0dgvO"
      },
      "execution_count": null,
      "outputs": []
    },
    {
      "cell_type": "markdown",
      "source": [
        "En la siguiente tabla se muestran los promedios de cada estadística de combate, agrupados por los clusters dados por el modelo."
      ],
      "metadata": {
        "id": "QdX6hjpClu9v"
      }
    },
    {
      "cell_type": "code",
      "source": [
        "print(df_original.loc[:,'total':'speed'].join(df_original['label'])\\\n",
        "      .groupby('label').mean().round(4))"
      ],
      "metadata": {
        "id": "w28v7ZCWgrwW"
      },
      "execution_count": null,
      "outputs": []
    },
    {
      "cell_type": "markdown",
      "source": [
        "De los clusters encontrados podemos evidenciar lo siguiente:\n",
        "\n",
        "* El cluster número 0 contiene a Pokémones con características muy por encima del promedio; **todas** sus características son en promedio más altas que las de los otros tres clusters, en particular, su ataque, ataque especial y velocidad (características que determinan la capacidad ofensiva de los Pokémones) son extremadamente altas. Por lo tanto, podríamos catalogar a estos Pokémones como los **'excepcionales'** (es muy probable los legendarios se encuentren en este cluster).\n",
        "\n",
        "* El cluster número 1 contiene Pokémones con características similares al cluster 3: su vida, velocidad y total son similares, sin embargo, su ataque y defensa son más altos, mientras su ataque especial y defensa especial son más bajos; Esto significa que estos Pokémones tienen un enfoque más físico. Es interesante observar que estos Pokémones alcanzan un ataque y defensa más altos que el ataque especial y defensa especial de sus contrapartes, pero tienen un ataque especial muy bajo. Considerando esto, este grupo será catalogado como los **'físicos'**.\n",
        "\n",
        "* El cluster número 2 contiene a los Pokémones cuyo ataque especial es particularmente alto y tienen características generales altas. Al estar altamente correlacionados, el ataque especial, defensa especial y velocidad de estos Pokémones son altas, la defensa y vida tienen valores promedio y el ataque es ligeramente bajo; considerando lo anterior, estos Pokémones se podrían llamar los **'especiales'**.\n",
        "\n",
        "* El cluster número 3 podría ser catalogado como el cluster de Pokémones **'débiles'**, pues contiene a aquellos con estadísticas totales considerablemente bajas, y que no resaltan en ningún ámbito en particular.\n",
        "\n",
        "Actualizaremos los nombres de las etiquetas para reflejar esta nueva categorización."
      ],
      "metadata": {
        "id": "a853A0PtHz7g"
      }
    },
    {
      "cell_type": "code",
      "source": [
        "df_original['label'].replace({0:'excepcional', 1:'fisico', 2:'especial', 3:'debil'}, inplace=True)\n",
        "df_original['label'] = df_original['label'].astype('category')\n",
        "print(df_original.head())"
      ],
      "metadata": {
        "id": "roC28BYFLC78"
      },
      "execution_count": null,
      "outputs": []
    },
    {
      "cell_type": "markdown",
      "source": [
        "## 4. Conclusiones"
      ],
      "metadata": {
        "id": "cJ-7hvhPQFjX"
      }
    },
    {
      "cell_type": "markdown",
      "source": [
        "En base a los cuatro clusters encontrados por el modelo podemos analizar múltiples relaciones entre los datos y sus variables para sacar conclusiones generales sobre el dataset:"
      ],
      "metadata": {
        "id": "cEy313VIRsa0"
      }
    },
    {
      "cell_type": "markdown",
      "source": [
        "*  La categoría más numerosa es la 'débil', seguida de los especiales, los físicos, y los excepcionales en ese orden. Lo interesante es que la categoría de excepcionales tiene un número considerable de entradas para lo altas que son sus características. Esto significa que hay una cantidad relativamente alta de Pokémones fuertes, incluso si también hay muchos más débiles."
      ],
      "metadata": {
        "id": "_5Tr70s9buT0"
      }
    },
    {
      "cell_type": "code",
      "source": [
        "print(df_original[['name', 'label']].groupby('label').count())"
      ],
      "metadata": {
        "id": "jrRATFDMbut6"
      },
      "execution_count": null,
      "outputs": []
    },
    {
      "cell_type": "markdown",
      "source": [
        "* Los Pokémones legendarios están mayormente concentrados en la categoría 'excepcional', sin embargo, no todos los Pokémones de este tipo se encuentran en esta categoría. Así mismo, hay Pokémones excepcionales que no son legendarios (incluso, tres legendarios se encuentran en la categoría 'debil').\n",
        "\n",
        "Esto significa que hay Pokémones que, sin ser legendarios, tienen características lo suficientemente altas para pertenecer al mismo grupo que estos."
      ],
      "metadata": {
        "id": "8cLN7QdKQLeN"
      }
    },
    {
      "cell_type": "code",
      "source": [
        "print(df_original[['legendary', 'label']].groupby('label').value_counts())"
      ],
      "metadata": {
        "id": "AyR_gGdOQKvw"
      },
      "execution_count": null,
      "outputs": []
    },
    {
      "cell_type": "markdown",
      "source": [
        "* En general, los Pokémones con enfoque físico tienden a tener un ataque especial muy bajo, mientras los de enfoque especial tienen un ataque normal promedio, esto se puede deber a que los Pokémones físicos no requieren de habilidades especiales, pero los Pokémones especiales sí emplean habilidades físicas."
      ],
      "metadata": {
        "id": "pxYviXNFRpfs"
      }
    },
    {
      "cell_type": "code",
      "source": [
        "print(df_original.loc[:,'total':'speed'].join(df_original['label'])\\\n",
        "      .groupby('label').mean().loc[['especial', 'fisico'],:].round(4))"
      ],
      "metadata": {
        "id": "oIGmlRTVUnyg"
      },
      "execution_count": null,
      "outputs": []
    },
    {
      "cell_type": "markdown",
      "source": [
        "*  Los Pokémones de tipo especial tienen al Pokémon con la vida más alta del juego. Los Pokémones débiles tienen a los Pokémon con mayor defensa y defensa especial del juego (aunque los físicos también tienen al menos un Pokémon con el valor más alto de defensa). Adicionalmente, los Pokémones físicos no tienen ningún Pokémon que resalte por su vida, aún cuando su valor promedio es más alto que en los especiales.\n",
        "\n",
        "* Los excepcionales, por su parte, no tienen ningún Pokémon con extrema defensa ni defensa especial, pero sí tienen a los Pokémones con los valores de ataque, ataque especial y velocidad más altos del juego, superando en ataque a los Pokémones físicos, y en ataque especial a los especiales. Los Pokémones excepcionales parecen resaltar en estadísticas ofensivas, pero no necesariamente en defensivas."
      ],
      "metadata": {
        "id": "Eexj7QGGV4ij"
      }
    },
    {
      "cell_type": "code",
      "source": [
        "print(df_original.loc[:,'total':'speed'].join(df_original['label'])\\\n",
        "      .groupby('label').max())"
      ],
      "metadata": {
        "id": "txb69AtzV5Ok"
      },
      "execution_count": null,
      "outputs": []
    },
    {
      "cell_type": "markdown",
      "source": [
        "* A diferencia de los legendarios, ninguna versión 'Mega' de un Pokémon está clasificada como débil, la mayoría son clasificados como excepcionales. De hecho, la categoría 'excepcional' está compuesta en total por 32 Pokémones Mega, 83 legendarios (como vimos antes), y 35 Pokémones comúnes (los restantes)."
      ],
      "metadata": {
        "id": "MeaLm22yZpoX"
      }
    },
    {
      "cell_type": "code",
      "source": [
        "print(df_original[df_original['name'].str.contains('Mega')]\\\n",
        "      .groupby('label')['name'].count())"
      ],
      "metadata": {
        "id": "O2Bnp8suZqEx"
      },
      "execution_count": null,
      "outputs": []
    },
    {
      "cell_type": "markdown",
      "source": [
        "---------"
      ],
      "metadata": {
        "id": "2QjRrE8WfpTh"
      }
    },
    {
      "cell_type": "markdown",
      "source": [
        "Este es el final de mis conclusiones, sin embargo, este DataSet permite experimentar y responder muchas más preguntas, por ejemplo ¿Qué tal se desempeñaría el modelo si se hubiesen escogido otras características para crearlo? o, ¿Qué tan diferentes serían los grupos si excluyeramos a los legendarios?, ¿Qué tal si hubiesemos usado más características?\n",
        "\n",
        "Este proyecto solo responde unas pocas preguntas, te invito a experimentar diferentes combinaciones de características y buscar otro tipo de información nueva e interesante de este Dataset!"
      ],
      "metadata": {
        "id": "EhKzSonifujt"
      }
    }
  ]
}